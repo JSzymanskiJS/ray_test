{
 "cells": [
  {
   "cell_type": "code",
   "execution_count": 1,
   "outputs": [],
   "source": [
    "from pprint import pprint\n",
    "from datetime import datetime\n",
    "from timeit import timeit\n",
    "\n",
    "from funcs_to_cmpr import *"
   ],
   "metadata": {
    "collapsed": false,
    "ExecuteTime": {
     "start_time": "2023-04-04T11:08:31.763596Z",
     "end_time": "2023-04-04T11:08:31.915307Z"
    }
   }
  },
  {
   "cell_type": "markdown",
   "source": [
    "## Summing matrices"
   ],
   "metadata": {
    "collapsed": false
   }
  },
  {
   "cell_type": "markdown",
   "source": [
    "### No-Ray"
   ],
   "metadata": {
    "collapsed": false
   }
  },
  {
   "cell_type": "code",
   "execution_count": 2,
   "outputs": [
    {
     "name": "stdout",
     "output_type": "stream",
     "text": [
      "array([[ 7.66775254,  8.20197529,  8.34651111, ..., 10.56556543,\n",
      "         7.58350649,  8.52598815],\n",
      "       [ 7.99438679,  9.30327005,  7.36481173, ...,  7.76903067,\n",
      "         7.73310906,  5.06044756],\n",
      "       [ 6.99936542,  8.28396526, 10.85007406, ...,  8.37545906,\n",
      "         7.24991257,  8.02752613],\n",
      "       ...,\n",
      "       [ 8.32274317,  8.4607195 ,  7.04702902, ...,  6.40180287,\n",
      "         7.88786684,  8.64993321],\n",
      "       [ 7.14144603,  8.74042552,  8.22477863, ...,  5.46426771,\n",
      "         9.31742521,  7.14968745],\n",
      "       [ 6.05340818,  6.61343227,  7.22803883, ...,  7.50887012,\n",
      "         8.76008121,  6.33371754]])\n"
     ]
    }
   ],
   "source": [
    "before_arrays_init = datetime.now().timestamp()\n",
    "arr = get_random_sqr_tensor()\n",
    "before_sum = datetime.now().timestamp()\n",
    "sum = sum_matrices(arr)\n",
    "pprint(sum)\n",
    "time_of_array_init = before_sum - before_arrays_init\n",
    "time_of_summation = datetime.now().timestamp() - before_sum"
   ],
   "metadata": {
    "collapsed": false,
    "ExecuteTime": {
     "start_time": "2023-04-04T11:08:31.915894Z",
     "end_time": "2023-04-04T11:08:47.262270Z"
    }
   }
  },
  {
   "cell_type": "code",
   "execution_count": 3,
   "outputs": [
    {
     "name": "stdout",
     "output_type": "stream",
     "text": [
      "'Time of array initialization: 12.588263034820557'\n",
      "'Time of summation: 2.7553229331970215'\n"
     ]
    }
   ],
   "source": [
    "pprint(f\"Time of array initialization: {time_of_array_init}\")\n",
    "pprint(f\"Time of summation: {time_of_summation}\")"
   ],
   "metadata": {
    "collapsed": false,
    "ExecuteTime": {
     "start_time": "2023-04-04T11:08:47.263429Z",
     "end_time": "2023-04-04T11:08:47.265428Z"
    }
   }
  },
  {
   "cell_type": "markdown",
   "source": [
    "### Ray"
   ],
   "metadata": {
    "collapsed": false
   }
  },
  {
   "cell_type": "code",
   "execution_count": 4,
   "outputs": [
    {
     "name": "stderr",
     "output_type": "stream",
     "text": [
      "2023-04-04 11:08:48,873\tINFO worker.py:1544 -- Started a local Ray instance. View the dashboard at \u001B[1m\u001B[32m127.0.0.1:8265 \u001B[39m\u001B[22m\n"
     ]
    },
    {
     "name": "stdout",
     "output_type": "stream",
     "text": [
      "array([[ 6.43103862,  6.28197353,  6.83764246, ...,  6.87896557,\n",
      "         6.76774209,  6.22539264],\n",
      "       [10.18320551,  6.82646162,  8.3458337 , ...,  8.73919213,\n",
      "         8.60988297,  7.45738348],\n",
      "       [ 7.56298144, 10.65576369,  6.59040185, ...,  5.93960198,\n",
      "         8.64922547,  7.75217223],\n",
      "       ...,\n",
      "       [ 8.32699243,  8.31324916,  8.86715314, ...,  7.16994368,\n",
      "         6.83056412,  6.04436903],\n",
      "       [ 7.8240791 ,  7.32515116,  7.92144777, ...,  7.99492304,\n",
      "         9.36239644,  8.1459365 ],\n",
      "       [ 7.78420992,  8.04415406,  6.31715564, ...,  9.47680296,\n",
      "         8.62536964,  7.23239077]])\n"
     ]
    }
   ],
   "source": [
    "before_ray_arrays_init = datetime.now().timestamp()\n",
    "arr = get_ray_random_sqr_tensor.remote()\n",
    "# pprint(ray.get(arr))\n",
    "before_ray_sum = datetime.now().timestamp()\n",
    "sum = sum_ray_matrices.remote(arr)\n",
    "pprint(ray.get(sum))\n",
    "time_of_ray_array_init = before_ray_sum - before_ray_arrays_init\n",
    "time_of_ray_summation = datetime.now().timestamp() - before_ray_sum"
   ],
   "metadata": {
    "collapsed": false,
    "ExecuteTime": {
     "start_time": "2023-04-04T11:08:47.265405Z",
     "end_time": "2023-04-04T11:13:01.695880Z"
    }
   }
  },
  {
   "cell_type": "code",
   "execution_count": 5,
   "outputs": [
    {
     "name": "stdout",
     "output_type": "stream",
     "text": [
      "'Time of Ray array initialization: 2.443859100341797'\n",
      "'Time of Ray summation: 251.92808890342712'\n"
     ]
    }
   ],
   "source": [
    "pprint(f\"Time of Ray array initialization: {time_of_ray_array_init}\")\n",
    "pprint(f\"Time of Ray summation: {time_of_ray_summation}\")"
   ],
   "metadata": {
    "collapsed": false,
    "ExecuteTime": {
     "start_time": "2023-04-04T11:13:01.687550Z",
     "end_time": "2023-04-04T11:13:01.731778Z"
    }
   }
  },
  {
   "cell_type": "markdown",
   "source": [
    "Second time"
   ],
   "metadata": {
    "collapsed": false
   }
  },
  {
   "cell_type": "code",
   "execution_count": 6,
   "outputs": [
    {
     "name": "stdout",
     "output_type": "stream",
     "text": [
      "array([[11.50194582,  7.19296518,  8.24532587, ...,  7.51389673,\n",
      "         7.67487709,  7.77028235],\n",
      "       [ 9.31289035,  9.08075757,  9.3753795 , ...,  7.90334436,\n",
      "         7.89755387,  8.07726017],\n",
      "       [ 6.91823737,  7.57105258,  9.73332728, ...,  7.60855031,\n",
      "         7.76624003,  7.65491433],\n",
      "       ...,\n",
      "       [ 7.58621468,  8.4980066 ,  7.92675913, ...,  8.26104308,\n",
      "         9.24387083,  7.22519503],\n",
      "       [ 8.99903593,  6.10722195,  9.03545962, ...,  9.50261515,\n",
      "         9.76133618,  8.95465067],\n",
      "       [ 8.89775814,  7.42809495,  7.35414344, ..., 10.26651897,\n",
      "         6.92081128,  7.74416588]])\n"
     ]
    }
   ],
   "source": [
    "before_ray_arrays_init = datetime.now().timestamp()\n",
    "arr = get_ray_random_sqr_tensor.remote()\n",
    "# pprint(ray.get(arr))\n",
    "before_ray_sum = datetime.now().timestamp()\n",
    "sum = sum_ray_matrices.remote(arr)\n",
    "pprint(ray.get(sum))\n",
    "time_of_ray_array_init = before_ray_sum - before_ray_arrays_init\n",
    "time_of_ray_summation = datetime.now().timestamp() - before_ray_sum"
   ],
   "metadata": {
    "collapsed": false,
    "ExecuteTime": {
     "start_time": "2023-04-04T11:13:01.852199Z",
     "end_time": "2023-04-04T11:18:12.867933Z"
    }
   }
  },
  {
   "cell_type": "code",
   "execution_count": 7,
   "outputs": [
    {
     "name": "stdout",
     "output_type": "stream",
     "text": [
      "'Time of Ray array initialization: 0.0011432170867919922'\n",
      "'Time of Ray summation: 310.68472385406494'\n"
     ]
    }
   ],
   "source": [
    "pprint(f\"Time of Ray array initialization: {time_of_ray_array_init}\")\n",
    "pprint(f\"Time of Ray summation: {time_of_ray_summation}\")"
   ],
   "metadata": {
    "collapsed": false,
    "ExecuteTime": {
     "start_time": "2023-04-04T11:18:12.867711Z",
     "end_time": "2023-04-04T11:18:12.996646Z"
    }
   }
  },
  {
   "cell_type": "markdown",
   "source": [
    "### Ray computation x100_000"
   ],
   "metadata": {
    "collapsed": false
   }
  },
  {
   "cell_type": "code",
   "execution_count": null,
   "outputs": [],
   "source": [
    "before_ray_arrays_init = datetime.now().timestamp()\n",
    "arr = get_ray_random_sqr_tensor.remote()\n",
    "before_ray_sum = datetime.now().timestamp()\n",
    "for _ in range(100000):\n",
    "    sum = sum_ray_matrices.remote(arr)\n",
    "time_of_ray_array_init = before_ray_sum - before_ray_arrays_init\n",
    "time_of_ray_summation = datetime.now().timestamp() - before_ray_sum"
   ],
   "metadata": {
    "collapsed": false
   }
  },
  {
   "cell_type": "code",
   "execution_count": null,
   "outputs": [],
   "source": [
    "pprint(f\"Time of Ray array initialization: {time_of_ray_array_init}\")\n",
    "pprint(f\"Time of Ray summation: {time_of_ray_summation}\")"
   ],
   "metadata": {
    "collapsed": false
   }
  },
  {
   "cell_type": "markdown",
   "source": [
    "### Ray init + computation x100_000"
   ],
   "metadata": {
    "collapsed": false
   }
  },
  {
   "cell_type": "code",
   "execution_count": null,
   "outputs": [],
   "source": [
    "before_ray_arrays_init = datetime.now().timestamp()\n",
    "before_ray_sum = datetime.now().timestamp()\n",
    "for _ in range(100000):\n",
    "    arr = get_ray_random_sqr_tensor.remote()\n",
    "    sum = sum_ray_matrices.remote(arr)\n",
    "time_of_ray_array_init = before_ray_sum - before_ray_arrays_init\n",
    "time_of_ray_summation = datetime.now().timestamp() - before_ray_sum"
   ],
   "metadata": {
    "collapsed": false
   }
  },
  {
   "cell_type": "code",
   "execution_count": null,
   "outputs": [],
   "source": [
    "pprint(f\"Time of Ray array initialization: {time_of_ray_array_init}\")\n",
    "pprint(f\"Time of Ray summation: {time_of_ray_summation}\")"
   ],
   "metadata": {
    "collapsed": false
   }
  },
  {
   "cell_type": "markdown",
   "source": [
    "## Code with Ray"
   ],
   "metadata": {
    "collapsed": false
   }
  },
  {
   "cell_type": "markdown",
   "source": [],
   "metadata": {
    "collapsed": false
   }
  },
  {
   "cell_type": "code",
   "execution_count": null,
   "outputs": [],
   "source": [
    "before_local_dot_prod_arrays_init = datetime.now().timestamp()\n",
    "arr = get_random_sqr_tensor()\n",
    "before_local_dot_prod = datetime.now().timestamp()\n",
    "dot = dot_product_matrices(arr)\n",
    "time_of_local_dot_prod_array_init = before_local_dot_prod - before_local_dot_prod_arrays_init\n",
    "time_of_local_dot_prod = datetime.now().timestamp() - before_local_dot_prod"
   ],
   "metadata": {
    "collapsed": false
   }
  },
  {
   "cell_type": "code",
   "execution_count": null,
   "outputs": [],
   "source": [
    "pprint(f\"Time of local array initialization: {time_of_local_dot_prod_array_init}\")\n",
    "pprint(f\"Time of local dot product: {time_of_local_dot_prod}\")"
   ],
   "metadata": {
    "collapsed": false
   }
  },
  {
   "cell_type": "markdown",
   "source": [],
   "metadata": {
    "collapsed": false
   }
  },
  {
   "cell_type": "code",
   "execution_count": null,
   "outputs": [],
   "source": [
    "before_ray_dot_prod_arrays_init = datetime.now().timestamp()\n",
    "before_ray_dot_prod = datetime.now().timestamp()\n",
    "for _ in range(100):\n",
    "    arr = get_ray_random_sqr_tensor.remote()\n",
    "    dot = dot_product_ray_matrices.remote(arr)\n",
    "time_of_ray_dot_prod_array_init = before_ray_dot_prod - before_ray_dot_prod_arrays_init\n",
    "time_of_ray_dot_prod = datetime.now().timestamp() - before_ray_dot_prod"
   ],
   "metadata": {
    "collapsed": false
   }
  },
  {
   "cell_type": "code",
   "execution_count": null,
   "outputs": [],
   "source": [
    "pprint(f\"Time of Ray array initialization: {time_of_ray_dot_prod_array_init}\")\n",
    "pprint(f\"Time of Ray dot product: {time_of_ray_dot_prod}\")"
   ],
   "metadata": {
    "collapsed": false
   }
  },
  {
   "cell_type": "markdown",
   "source": [],
   "metadata": {
    "collapsed": false
   }
  },
  {
   "cell_type": "code",
   "execution_count": null,
   "outputs": [],
   "source": [
    "before_ray_dot_prod_arrays_init = datetime.now().timestamp()\n",
    "before_ray_dot_prod = datetime.now().timestamp()\n",
    "for _ in range(100):\n",
    "    arr = get_ray_random_sqr_tensor.remote()\n",
    "    dot = dot_product_ray_matrices.remote(arr)\n",
    "time_of_ray_dot_prod_array_init = before_ray_dot_prod - before_ray_dot_prod_arrays_init\n",
    "time_of_ray_dot_prod = datetime.now().timestamp() - before_ray_dot_prod"
   ],
   "metadata": {
    "collapsed": false
   }
  },
  {
   "cell_type": "code",
   "execution_count": null,
   "outputs": [],
   "source": [
    "pprint(f\"Time of Ray array initialization: {time_of_ray_dot_prod_array_init}\")\n",
    "pprint(f\"Time of Ray dot product: {time_of_ray_dot_prod}\")"
   ],
   "metadata": {
    "collapsed": false
   }
  },
  {
   "cell_type": "code",
   "execution_count": 9,
   "outputs": [
    {
     "name": "stdout",
     "output_type": "stream",
     "text": [
      "[0, 1, 4, 9]\n"
     ]
    }
   ],
   "source": [
    "import ray\n",
    "# ray.init()\n",
    "\n",
    "@ray.remote\n",
    "def f(x):\n",
    "    return x * x\n",
    "\n",
    "futures = [f.remote(i) for i in range(4)]\n",
    "print(ray.get(futures)) # [0, 1, 4, 9]"
   ],
   "metadata": {
    "collapsed": false,
    "ExecuteTime": {
     "start_time": "2023-04-04T12:39:40.811463Z",
     "end_time": "2023-04-04T12:39:40.835924Z"
    }
   }
  }
 ],
 "metadata": {
  "kernelspec": {
   "display_name": "Python 3",
   "language": "python",
   "name": "python3"
  },
  "language_info": {
   "codemirror_mode": {
    "name": "ipython",
    "version": 2
   },
   "file_extension": ".py",
   "mimetype": "text/x-python",
   "name": "python",
   "nbconvert_exporter": "python",
   "pygments_lexer": "ipython2",
   "version": "2.7.6"
  }
 },
 "nbformat": 4,
 "nbformat_minor": 0
}
